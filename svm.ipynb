{
  "nbformat": 4,
  "nbformat_minor": 0,
  "metadata": {
    "colab": {
      "private_outputs": true,
      "provenance": [],
      "authorship_tag": "ABX9TyPfeGVzXpmM0eGzRDYvG+a3",
      "include_colab_link": true
    },
    "kernelspec": {
      "name": "python3",
      "display_name": "Python 3"
    },
    "language_info": {
      "name": "python"
    }
  },
  "cells": [
    {
      "cell_type": "markdown",
      "metadata": {
        "id": "view-in-github",
        "colab_type": "text"
      },
      "source": [
        "<a href=\"https://colab.research.google.com/github/Samhitha140/ML-23AG1A66D1/blob/main/svm.ipynb\" target=\"_parent\"><img src=\"https://colab.research.google.com/assets/colab-badge.svg\" alt=\"Open In Colab\"/></a>"
      ]
    },
    {
      "cell_type": "code",
      "execution_count": null,
      "metadata": {
        "id": "o4xdTEEaXIoX"
      },
      "outputs": [],
      "source": [
        "import matplotlib.pyplot as plt\n",
        "import numpy as np\n",
        "from sklearn import svm"
      ]
    },
    {
      "cell_type": "code",
      "source": [
        "# The data is 2Dimesnonal.\n",
        "x= np.array([1, 2, 5, 1.5, 8, 1, 9, 7, 8.7, 2.3, 5.5, 7.7, 6.1, 8, 8])\n",
        "y= np.array([2, 4, 8, 1.8, 8, 0.6, 11, 10, 9.4, 4, 3, 8.8, 7.5, 8, 2])\n",
        "print(x)\n",
        "print(y)\n",
        ""
      ],
      "metadata": {
        "id": "H5kdiV7RXLS0"
      },
      "execution_count": null,
      "outputs": []
    },
    {
      "cell_type": "code",
      "source": [
        "plt.scatter(x,y)\n",
        "plt.show()\n",
        ""
      ],
      "metadata": {
        "id": "PTm54TBFXPcM"
      },
      "execution_count": null,
      "outputs": []
    },
    {
      "cell_type": "code",
      "source": [
        "\n",
        "training_X = np.stack((x, y)).T\n",
        "training_y = [0, 0, 1, 0, 1, 0, 1, 1, 1, 0, 0, 1, 1, 1,1]"
      ],
      "metadata": {
        "id": "ihEiBuQ4XTte"
      },
      "execution_count": null,
      "outputs": []
    },
    {
      "cell_type": "code",
      "source": [
        "clf = svm.SVC(kernel='linear', C=1.0)\n",
        "clf.fit(training_X, training_y)\n",
        ""
      ],
      "metadata": {
        "id": "vIgWE9mRXW_O"
      },
      "execution_count": null,
      "outputs": []
    },
    {
      "cell_type": "code",
      "source": [
        "# Extract the model parameter for the linear SVM from the trained SVM model\n",
        "w = clf.coef_[0]\n",
        "\n",
        "# Calculate the y-offset for the linear SVM\n",
        "a = -w[0] / w[1]\n",
        "\n",
        "# make the x-axis space for the data points\n",
        "XX = np.linspace(0, 13)\n",
        "\n",
        "# get the labels to plot the decision boundary\n",
        "yy = a * XX - clf.intercept_[0] / w[1]\n",
        "\n",
        "# plotting the decision boundary\n",
        "plt.plot(XX, yy, 'k-')\n",
        "\n",
        "# showing the plot visually\n",
        "plt.scatter(training_X[:, 0], training_X[:, 1], c=training_y)\n",
        "plt.legend()\n",
        "plt.show()\n",
        "\n"
      ],
      "metadata": {
        "id": "iHqDmwdWYPkE"
      },
      "execution_count": null,
      "outputs": []
    }
  ]
}