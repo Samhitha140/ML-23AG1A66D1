{
  "nbformat": 4,
  "nbformat_minor": 0,
  "metadata": {
    "colab": {
      "provenance": [],
      "authorship_tag": "ABX9TyMNDlDdm4Gn4qtgHLk31+US",
      "include_colab_link": true
    },
    "kernelspec": {
      "name": "python3",
      "display_name": "Python 3"
    },
    "language_info": {
      "name": "python"
    }
  },
  "cells": [
    {
      "cell_type": "markdown",
      "metadata": {
        "id": "view-in-github",
        "colab_type": "text"
      },
      "source": [
        "<a href=\"https://colab.research.google.com/github/Samhitha140/ML-23AG1A66D1/blob/main/numpy.ipynb\" target=\"_parent\"><img src=\"https://colab.research.google.com/assets/colab-badge.svg\" alt=\"Open In Colab\"/></a>"
      ]
    },
    {
      "cell_type": "markdown",
      "source": [
        "**NumPy**\n",
        "\n",
        "NumPy is a Python library created in 2005 that performs numerical calculations. It is generally used for working with arrays.\n",
        "\n",
        "NumPy also includes a wide range of mathematical functions, such as linear algebra, Fourier transforms, and random number generation, which can be applied to arrays.\n",
        "\n",
        "**Why Use Numpy**\n",
        "\n",
        "In Python, we use lists to work with arrays. But when it comes to large array operations, Python lists are not optimized enough.\n",
        "\n",
        "Numpy arrays are optimized for complex mathematical and statistical operations. Operations on NumPy are up to 50x faster than iterating over native Python lists using loops."
      ],
      "metadata": {
        "id": "gC9UQfj022sh"
      }
    },
    {
      "cell_type": "code",
      "execution_count": 1,
      "metadata": {
        "id": "BjyXy3By2zB6"
      },
      "outputs": [],
      "source": [
        "\n",
        "import numpy as np\n"
      ]
    },
    {
      "cell_type": "markdown",
      "source": [
        "NumPy Array Creation"
      ],
      "metadata": {
        "id": "K-MznMCp37Fg"
      }
    },
    {
      "cell_type": "code",
      "source": [
        "l1=[2,3,4,5,6]\n",
        "arr1=np.array(l1)\n",
        "print(arr1)"
      ],
      "metadata": {
        "colab": {
          "base_uri": "https://localhost:8080/"
        },
        "id": "tBLhD_w932u8",
        "outputId": "bedf1619-490d-4998-ce23-50c786e65940"
      },
      "execution_count": 2,
      "outputs": [
        {
          "output_type": "stream",
          "name": "stdout",
          "text": [
            "[2 3 4 5 6]\n"
          ]
        }
      ]
    },
    {
      "cell_type": "code",
      "source": [
        "arr1=np.array([2,3,4,5,6])\n",
        "print(arr1)"
      ],
      "metadata": {
        "colab": {
          "base_uri": "https://localhost:8080/"
        },
        "id": "IbEb8LkK4UDp",
        "outputId": "7039cfef-7f53-4344-ffe7-41e6fa23396a"
      },
      "execution_count": 3,
      "outputs": [
        {
          "output_type": "stream",
          "name": "stdout",
          "text": [
            "[2 3 4 5 6]\n"
          ]
        }
      ]
    },
    {
      "cell_type": "code",
      "source": [
        "arr1=np.array([[2,3,4,5],\n",
        "               [4,9,8,7]])\n",
        "\n",
        "print(arr1)"
      ],
      "metadata": {
        "colab": {
          "base_uri": "https://localhost:8080/"
        },
        "id": "X6pIZ-Ho4gII",
        "outputId": "736cb898-e230-4081-c9c9-09844494c811"
      },
      "execution_count": 4,
      "outputs": [
        {
          "output_type": "stream",
          "name": "stdout",
          "text": [
            "[[2 3 4 5]\n",
            " [4 9 8 7]]\n"
          ]
        }
      ]
    },
    {
      "cell_type": "code",
      "source": [
        "arr1=np.array([[[2,3,4,5],\n",
        "               [4,9,8,7],\n",
        "                [3,6,7,8]],\n",
        "\n",
        "              [[3,7,8,9],\n",
        "               [7,0,9,8],\n",
        "               [7,9,8,6]]])\n",
        "\n",
        "print(arr1)"
      ],
      "metadata": {
        "colab": {
          "base_uri": "https://localhost:8080/"
        },
        "id": "D7aPDIed413U",
        "outputId": "0d844a42-260b-4f7f-ad4b-0b729daed975"
      },
      "execution_count": 6,
      "outputs": [
        {
          "output_type": "stream",
          "name": "stdout",
          "text": [
            "[[[2 3 4 5]\n",
            "  [4 9 8 7]\n",
            "  [3 6 7 8]]\n",
            "\n",
            " [[3 7 8 9]\n",
            "  [7 0 9 8]\n",
            "  [7 9 8 6]]]\n"
          ]
        }
      ]
    },
    {
      "cell_type": "code",
      "source": [
        "arr1 = np.array([2, 4, 6])\n",
        "\n",
        "# check the data type of array1\n",
        "print(arr1.dtype)\n",
        ""
      ],
      "metadata": {
        "colab": {
          "base_uri": "https://localhost:8080/"
        },
        "id": "9Y_OJxxk5qCz",
        "outputId": "30d74e3c-6cfd-4dd3-b7ab-b46d479caa40"
      },
      "execution_count": 7,
      "outputs": [
        {
          "output_type": "stream",
          "name": "stdout",
          "text": [
            "int64\n"
          ]
        }
      ]
    },
    {
      "cell_type": "markdown",
      "source": [
        "Check dimensions of an Numpy Array"
      ],
      "metadata": {
        "id": "n7P4PhdY6T06"
      }
    },
    {
      "cell_type": "code",
      "source": [
        "print(arr1.ndim)"
      ],
      "metadata": {
        "colab": {
          "base_uri": "https://localhost:8080/"
        },
        "id": "lsZPA9r16LWy",
        "outputId": "7fd374d2-4feb-4291-af03-50d3255bd1e4"
      },
      "execution_count": 8,
      "outputs": [
        {
          "output_type": "stream",
          "name": "stdout",
          "text": [
            "1\n"
          ]
        }
      ]
    },
    {
      "cell_type": "markdown",
      "source": [
        "Check Size of Numpy array"
      ],
      "metadata": {
        "id": "wXSFlQUz6Wqx"
      }
    },
    {
      "cell_type": "code",
      "source": [
        "\n",
        "print(arr1.size)"
      ],
      "metadata": {
        "colab": {
          "base_uri": "https://localhost:8080/"
        },
        "id": "HoENXtHx6Yw5",
        "outputId": "405b438b-8884-445a-cb4b-56c168d0b934"
      },
      "execution_count": 9,
      "outputs": [
        {
          "output_type": "stream",
          "name": "stdout",
          "text": [
            "3\n"
          ]
        }
      ]
    },
    {
      "cell_type": "markdown",
      "source": [
        "**NumPy Array shape Attribute**\n",
        "\n",
        "In NumPy, the shape attribute returns a tuple of integers that gives the size of the array in each dimension."
      ],
      "metadata": {
        "id": "A_UQqk1X6coB"
      }
    },
    {
      "cell_type": "code",
      "source": [
        "arr1 = np.array([[1, 2, 3],\n",
        "                [6, 7, 8]])\n",
        "\n",
        "# return a tuple that gives size of array in each dimension\n",
        "print(arr1.shape)"
      ],
      "metadata": {
        "colab": {
          "base_uri": "https://localhost:8080/"
        },
        "id": "p5-Yzgao6g8y",
        "outputId": "d529e663-9d3d-44b0-ad72-f1299ad83016"
      },
      "execution_count": 10,
      "outputs": [
        {
          "output_type": "stream",
          "name": "stdout",
          "text": [
            "(2, 3)\n"
          ]
        }
      ]
    },
    {
      "cell_type": "markdown",
      "source": [
        "**NumPy Array itemsize Attribute**\n",
        "\n",
        "In NumPy, the itemsize attribute determines size (in bytes) of each element in the array."
      ],
      "metadata": {
        "id": "cQaLnnXo6pHR"
      }
    },
    {
      "cell_type": "code",
      "source": [
        "# create a default 1-D array of integers\n",
        "arr1 = np.array([6, 7, 8, 10, 13])\n",
        "\n",
        "# create a 1-D array of 32-bit integers\n",
        "arr2 = np.array([6, 7, 8, 10, 13], dtype=np.int32)\n",
        "\n",
        "# use of itemsize to determine size of each array element of array1 and array2\n",
        "print(arr1.itemsize)\n",
        "print(arr2.itemsize)\n",
        ""
      ],
      "metadata": {
        "colab": {
          "base_uri": "https://localhost:8080/"
        },
        "id": "8a8WyYOF6r8Z",
        "outputId": "041c5c54-48a6-464d-9189-c708e79b7d80"
      },
      "execution_count": 16,
      "outputs": [
        {
          "output_type": "stream",
          "name": "stdout",
          "text": [
            "8\n",
            "4\n"
          ]
        }
      ]
    },
    {
      "cell_type": "markdown",
      "source": [
        "**NumPy Array data Attribute**\n",
        "\n",
        "In NumPy, we can get a buffer containing actual elements of the array in memory using the data attribute.\n",
        "\n",
        "In simpler terms, the data attribute is like a pointer to the memory location where the array's data is stored in the computer's memory."
      ],
      "metadata": {
        "id": "gBFCemWv71jx"
      }
    },
    {
      "cell_type": "code",
      "source": [
        "arr1 = np.array([6, 7, 8])\n",
        "arr2 = np.array([[1, 2, 3],\n",
        "                   \t    [6, 7, 8]])\n",
        "\n",
        "# print memory address of array1's and array2's data\n",
        "print(\"Data of array1 is: \",arr1.data)\n",
        "print(\"Data of array2 is: \",arr2.data)\n",
        ""
      ],
      "metadata": {
        "colab": {
          "base_uri": "https://localhost:8080/"
        },
        "id": "9PE3QOVB7yKy",
        "outputId": "bf33e7b3-c7ed-4e60-8901-867ee66f305a"
      },
      "execution_count": 13,
      "outputs": [
        {
          "output_type": "stream",
          "name": "stdout",
          "text": [
            "Data of array1 is:  <memory at 0x7ac9338d3400>\n",
            "Data of array2 is:  <memory at 0x7ac9335a0110>\n"
          ]
        }
      ]
    },
    {
      "cell_type": "markdown",
      "source": [
        "Access Array Elements Using Index"
      ],
      "metadata": {
        "id": "0ijNP8gL8TNa"
      }
    },
    {
      "cell_type": "code",
      "source": [
        "arr1[1]=10\n",
        "print(arr1)\n",
        ""
      ],
      "metadata": {
        "colab": {
          "base_uri": "https://localhost:8080/"
        },
        "id": "nscZJ7048V0J",
        "outputId": "416a57f3-e984-49ba-b1b0-f3b1a922f732"
      },
      "execution_count": 18,
      "outputs": [
        {
          "output_type": "stream",
          "name": "stdout",
          "text": [
            "[ 6 10  8 10 13]\n"
          ]
        }
      ]
    },
    {
      "cell_type": "markdown",
      "source": [
        "2-D NumPy Array Indexing"
      ],
      "metadata": {
        "id": "c2QBuKC580CC"
      }
    },
    {
      "cell_type": "code",
      "source": [
        "# create a 2D array\n",
        "array1 = np.array([[1, 3, 5, 7],\n",
        "                       [9, 11, 13, 15],\n",
        "                       [2, 4, 6, 8]])\n",
        "\n",
        "\n",
        "# access the element at the second row and fourth column\n",
        "element1 = array1[1, 3]  # returns 15\n",
        "print(\"4th Element at 2nd Row:\",element1)\n",
        "\n",
        "# access the element at the first row and second column\n",
        "element2 = array1[0, 1]  # returns 3\n",
        "print(\"2nd Element at First Row:\",element2)"
      ],
      "metadata": {
        "colab": {
          "base_uri": "https://localhost:8080/"
        },
        "id": "GrEL1QWc85h6",
        "outputId": "356dbdf0-f9c5-42cd-af5d-ef379666aa76"
      },
      "execution_count": 19,
      "outputs": [
        {
          "output_type": "stream",
          "name": "stdout",
          "text": [
            "4th Element at 2nd Row: 15\n",
            "2nd Element at First Row: 3\n"
          ]
        }
      ]
    },
    {
      "cell_type": "markdown",
      "source": [
        "**NumPy Statistical Functions**\n",
        "\n",
        "Functions\n",
        "\n",
        "median() return the median of an array\n",
        "\n",
        "mean() return the mean of an array\n",
        "\n",
        "std() return the standard deviation of an array\n",
        "\n",
        "percentile() return the nth percentile of elements in an array\n",
        "\n",
        "min() return the minimum element of an array\n",
        "\n",
        "max() return the maximum element of an array"
      ],
      "metadata": {
        "id": "Mx4k1b3k9QEB"
      }
    },
    {
      "cell_type": "code",
      "source": [
        "# create a 1D array with 5 elements\n",
        "array1 = np.array([1, 2, 3, 4, 5])\n",
        "\n",
        "# calculate the median\n",
        "median = np.median(array1)\n",
        "\n",
        "print(median)"
      ],
      "metadata": {
        "colab": {
          "base_uri": "https://localhost:8080/"
        },
        "id": "gCtUKK1T9VYB",
        "outputId": "24fca9dc-1bf5-49dd-a9ae-2e302654fe27"
      },
      "execution_count": 20,
      "outputs": [
        {
          "output_type": "stream",
          "name": "stdout",
          "text": [
            "3.0\n"
          ]
        }
      ]
    },
    {
      "cell_type": "markdown",
      "source": [
        "Compute Mean Using NumPy"
      ],
      "metadata": {
        "id": "3pds4Hb_9ZMS"
      }
    },
    {
      "cell_type": "code",
      "source": [
        "# create a numpy array\n",
        "marks = np.array([76, 78, 81, 66, 85])\n",
        "\n",
        "# compute the mean of marks\n",
        "mean_marks = np.mean(marks)\n",
        "\n",
        "print(mean_marks)\n",
        "\n"
      ],
      "metadata": {
        "colab": {
          "base_uri": "https://localhost:8080/"
        },
        "id": "--KuiuTm9bVC",
        "outputId": "c9a9e12f-271c-4da2-a2f7-e94b7fa8a30c"
      },
      "execution_count": 21,
      "outputs": [
        {
          "output_type": "stream",
          "name": "stdout",
          "text": [
            "77.2\n"
          ]
        }
      ]
    },
    {
      "cell_type": "markdown",
      "source": [
        "Standard Deviation of NumPy Array"
      ],
      "metadata": {
        "id": "ffPUW8vv9dyK"
      }
    },
    {
      "cell_type": "code",
      "source": [
        "# create a numpy array\n",
        "marks = np.array([76, 78, 81, 66, 85])\n",
        "\n",
        "# compute the standard deviation of marks\n",
        "std_marks = np.std(marks)\n",
        "print(std_marks)\n",
        ""
      ],
      "metadata": {
        "colab": {
          "base_uri": "https://localhost:8080/"
        },
        "id": "kAm7aUgU9gFq",
        "outputId": "ebd80090-7db8-4af2-d353-cbaa7ad13b79"
      },
      "execution_count": 22,
      "outputs": [
        {
          "output_type": "stream",
          "name": "stdout",
          "text": [
            "6.368673331236263\n"
          ]
        }
      ]
    },
    {
      "cell_type": "markdown",
      "source": [
        "Numpy Percentile"
      ],
      "metadata": {
        "id": "19h5K1969iyU"
      }
    },
    {
      "cell_type": "code",
      "source": [
        "# create a numpy array\n",
        "marks = np.array([76, 78, 81, 66, 85])\n",
        "\n",
        "# compute the standard deviation of marks\n",
        "std_marks = np.percentile(marks,50)\n",
        "print(std_marks)\n",
        ""
      ],
      "metadata": {
        "colab": {
          "base_uri": "https://localhost:8080/"
        },
        "id": "OsIieklB9k-6",
        "outputId": "351da485-17f8-4f37-d20c-2748fa7d776b"
      },
      "execution_count": 24,
      "outputs": [
        {
          "output_type": "stream",
          "name": "stdout",
          "text": [
            "78.0\n"
          ]
        }
      ]
    },
    {
      "cell_type": "markdown",
      "source": [
        "Numpy min"
      ],
      "metadata": {
        "id": "xFS_loxs9nUi"
      }
    },
    {
      "cell_type": "code",
      "source": [
        "# create a numpy array\n",
        "marks = np.array([76, 78, 81, 66, 85])\n",
        "\n",
        "# compute the standard deviation of marks\n",
        "std_marks = np.min(marks)\n",
        "print(std_marks)"
      ],
      "metadata": {
        "colab": {
          "base_uri": "https://localhost:8080/"
        },
        "id": "5zx0Fa6X9pQr",
        "outputId": "365c0977-597c-4abf-df3d-990fb53a700e"
      },
      "execution_count": 23,
      "outputs": [
        {
          "output_type": "stream",
          "name": "stdout",
          "text": [
            "66\n"
          ]
        }
      ]
    },
    {
      "cell_type": "markdown",
      "source": [
        "Numpy max"
      ],
      "metadata": {
        "id": "jvawCWR19w8J"
      }
    },
    {
      "cell_type": "code",
      "source": [
        "# create a numpy array\n",
        "marks = np.array([76, 78, 81, 66, 85])\n",
        "\n",
        "# compute the standard deviation of marks\n",
        "std_marks = np.max(marks)\n",
        "print(std_marks)\n",
        "\n"
      ],
      "metadata": {
        "colab": {
          "base_uri": "https://localhost:8080/"
        },
        "id": "s2Mm8aNb9xyq",
        "outputId": "3b9c1af6-2ef2-4b5d-eff8-21217f7992c2"
      },
      "execution_count": 25,
      "outputs": [
        {
          "output_type": "stream",
          "name": "stdout",
          "text": [
            "85\n"
          ]
        }
      ]
    }
  ]
}